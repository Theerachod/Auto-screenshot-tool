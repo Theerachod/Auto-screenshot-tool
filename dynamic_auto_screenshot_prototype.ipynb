{
  "nbformat": 4,
  "nbformat_minor": 0,
  "metadata": {
    "colab": {
      "provenance": [],
      "authorship_tag": "ABX9TyO6Iqn5FGNFNHkU943uuXp8",
      "include_colab_link": true
    },
    "kernelspec": {
      "name": "python3",
      "display_name": "Python 3"
    },
    "language_info": {
      "name": "python"
    }
  },
  "cells": [
    {
      "cell_type": "markdown",
      "metadata": {
        "id": "view-in-github",
        "colab_type": "text"
      },
      "source": [
        "<a href=\"https://colab.research.google.com/github/Theerachod/automated-screenshot-project/blob/main/dynamic_auto_screenshot_prototype.ipynb\" target=\"_parent\"><img src=\"https://colab.research.google.com/assets/colab-badge.svg\" alt=\"Open In Colab\"/></a>"
      ]
    },
    {
      "cell_type": "code",
      "execution_count": 13,
      "metadata": {
        "colab": {
          "base_uri": "https://localhost:8080/"
        },
        "id": "RX1OLaY_UiQh",
        "outputId": "5d6cc947-5f02-485a-e054-3cc7f76efca0"
      },
      "outputs": [
        {
          "output_type": "stream",
          "name": "stdout",
          "text": [
            "Requirement already satisfied: pandas in /usr/local/lib/python3.10/dist-packages (1.5.3)\n",
            "Requirement already satisfied: python-dateutil>=2.8.1 in /usr/local/lib/python3.10/dist-packages (from pandas) (2.8.2)\n",
            "Requirement already satisfied: pytz>=2020.1 in /usr/local/lib/python3.10/dist-packages (from pandas) (2023.3.post1)\n",
            "Requirement already satisfied: numpy>=1.21.0 in /usr/local/lib/python3.10/dist-packages (from pandas) (1.23.5)\n",
            "Requirement already satisfied: six>=1.5 in /usr/local/lib/python3.10/dist-packages (from python-dateutil>=2.8.1->pandas) (1.16.0)\n",
            "Requirement already satisfied: requests in /usr/local/lib/python3.10/dist-packages (2.31.0)\n",
            "Requirement already satisfied: charset-normalizer<4,>=2 in /usr/local/lib/python3.10/dist-packages (from requests) (3.3.2)\n",
            "Requirement already satisfied: idna<4,>=2.5 in /usr/local/lib/python3.10/dist-packages (from requests) (3.6)\n",
            "Requirement already satisfied: urllib3<3,>=1.21.1 in /usr/local/lib/python3.10/dist-packages (from requests) (2.0.7)\n",
            "Requirement already satisfied: certifi>=2017.4.17 in /usr/local/lib/python3.10/dist-packages (from requests) (2023.11.17)\n",
            "Requirement already satisfied: pythainlp in /usr/local/lib/python3.10/dist-packages (4.0.2)\n",
            "Requirement already satisfied: requests>=2.22.0 in /usr/local/lib/python3.10/dist-packages (from pythainlp) (2.31.0)\n",
            "Requirement already satisfied: charset-normalizer<4,>=2 in /usr/local/lib/python3.10/dist-packages (from requests>=2.22.0->pythainlp) (3.3.2)\n",
            "Requirement already satisfied: idna<4,>=2.5 in /usr/local/lib/python3.10/dist-packages (from requests>=2.22.0->pythainlp) (3.6)\n",
            "Requirement already satisfied: urllib3<3,>=1.21.1 in /usr/local/lib/python3.10/dist-packages (from requests>=2.22.0->pythainlp) (2.0.7)\n",
            "Requirement already satisfied: certifi>=2017.4.17 in /usr/local/lib/python3.10/dist-packages (from requests>=2.22.0->pythainlp) (2023.11.17)\n",
            "Requirement already satisfied: pilmoji in /usr/local/lib/python3.10/dist-packages (2.0.4)\n",
            "Requirement already satisfied: Pillow in /usr/local/lib/python3.10/dist-packages (from pilmoji) (9.4.0)\n",
            "Requirement already satisfied: emoji in /usr/local/lib/python3.10/dist-packages (from pilmoji) (2.9.0)\n",
            "Requirement already satisfied: emoji in /usr/local/lib/python3.10/dist-packages (2.9.0)\n"
          ]
        }
      ],
      "source": [
        "# Install and import necessary library\n",
        "!pip install pandas\n",
        "!pip install requests\n",
        "!pip install pythainlp\n",
        "!pip install pilmoji\n",
        "!pip install emoji\n",
        "\n",
        "import requests\n",
        "import emoji\n",
        "import math\n",
        "import warnings\n",
        "from PIL import Image, ImageDraw, ImageFont\n",
        "from pilmoji import Pilmoji\n",
        "from pilmoji.source import TwemojiEmojiSource\n",
        "from pythainlp import word_tokenize\n",
        "import pandas as pd\n",
        "pd.set_option(\"display.max_columns\", 50)\n",
        "\n",
        "# Create function to download font\n",
        "def download_file(url):\n",
        "    local_filename = url.split(\"/\")[-1]\n",
        "    r = requests.get(url)\n",
        "    with open(local_filename, \"wb\") as f:\n",
        "        for chunk in r.iter_content(chunk_size=1024):\n",
        "            if chunk: # filter out keep-alive new chunks\n",
        "                f.write(chunk)\n",
        "    return\n",
        "\n",
        "# Font url\n",
        "sarabun_font_url = \"https://github.com/Theerachod/Font/raw/main/Sarabun-Regular.ttf\"\n",
        "noto_font_url = \"https://github.com/Theerachod/Font/raw/main/NotoColorEmoji-Regular.ttf\"\n",
        "\n",
        "# Download font\n",
        "download_file(sarabun_font_url)\n",
        "download_file(noto_font_url)\n",
        "\n",
        "# Create function to list all existing emoji in message\n",
        "def get_existing_emojis(message):\n",
        "    emoji_list = []\n",
        "\n",
        "    for char in message:\n",
        "        if emoji.is_emoji(char):\n",
        "            emoji_list.append(char)\n",
        "\n",
        "    return emoji_list"
      ]
    },
    {
      "cell_type": "code",
      "source": [
        "# Create function to generate dynamic screenshot\n",
        "def generate_dynamic_screenshot(message,width=3):\n",
        "  # To hide warning message\n",
        "  with warnings.catch_warnings():\n",
        "        warnings.simplefilter(\"ignore\")\n",
        "\n",
        "        # Set dumy message to always get the same message height\n",
        "        dummy_message = \"ผมเป็นมุสลิม รู้ว่ามีฮาลาล วันนี้ผมไปเหมาหมดShelfเลย สาขาใกล้บ้าน มีอยู่ 4 ชิ้นครับ\"\n",
        "\n",
        "        # Set image width and background\n",
        "        img_width = int(width*100)\n",
        "        background_color = (255, 255, 255, 0)\n",
        "        left_margin, right_margin = 10, 10\n",
        "\n",
        "        # Thai Sarabun font\n",
        "        thai_font = ImageFont.truetype(\"/content/Sarabun-Regular.ttf\", 16)\n",
        "        # Emoji font\n",
        "        emoji_font = ImageFont.truetype(\"/content/NotoColorEmoji-Regular.ttf\", 16)\n",
        "\n",
        "        # Get existing emoji in the message\n",
        "        emoji_list = get_existing_emojis(message)\n",
        "        emoji_set = list(set(emoji_list))\n",
        "\n",
        "        # Check if there are emojis in message\n",
        "        if len(emoji_set) == 0:\n",
        "            split_emoji = [message]\n",
        "        else:\n",
        "            # Split emoji\n",
        "            split_emoji = re.split(r\"(\" + \"|\".join(re.escape(e) for e in emoji_set) + r\")\", message)\n",
        "            split_emoji = [item for item in split_emoji if item != '']\n",
        "\n",
        "        # Tokenize message\n",
        "        result = []\n",
        "        for item in split_emoji:\n",
        "            if item.strip() != \"\":\n",
        "                # Tokenize non-empty non-emoji items\n",
        "                tokens = word_tokenize(item)\n",
        "                result.extend(tokens)\n",
        "            else:\n",
        "                result.append(item)\n",
        "\n",
        "        # Calculate the message width\n",
        "        each_word_width = []\n",
        "\n",
        "        for word in result:\n",
        "            if word in emoji_set:\n",
        "                each_word_width.append(emoji_font.getsize(word)[0] + 2)\n",
        "            else:\n",
        "                each_word_width.append(thai_font.getsize(word)[0])\n",
        "\n",
        "        # Calculate text height\n",
        "        text_height = thai_font.getsize(dummy_message)[1] + 5\n",
        "\n",
        "        # Calculate total width of message\n",
        "        total_width = sum(each_word_width)\n",
        "\n",
        "        # Calculate available space for each line\n",
        "        available_space = img_width - left_margin - right_margin\n",
        "\n",
        "        # Calculate how many line to plot\n",
        "        num_line = math.ceil(total_width/available_space)\n",
        "\n",
        "        # Space line\n",
        "        space_line = num_line + 1\n",
        "\n",
        "        # Calculate image height\n",
        "        img_height = int((num_line*text_height) + (space_line*2.5))\n",
        "\n",
        "        # Create image\n",
        "        image = Image.new(\"RGB\", (img_width, img_height), background_color)\n",
        "        # To render emoji\n",
        "        pilmoji = Pilmoji(image, source=TwemojiEmojiSource)\n",
        "\n",
        "        # Calculate space between line\n",
        "        space = (img_height - text_height*num_line) / space_line\n",
        "\n",
        "        # Initialize width counter\n",
        "        width_counter = 0\n",
        "        # Additional y\n",
        "        added_y = (space+text_height)\n",
        "\n",
        "        # Define x and y position\n",
        "        x = left_margin\n",
        "        y = space*2\n",
        "\n",
        "        # Plot text on the image\n",
        "        for word in result:\n",
        "            if word in emoji_set:\n",
        "                emo = True\n",
        "                word_width = emoji_font.getsize(word)[0] + 2\n",
        "            else:\n",
        "                emo = False\n",
        "                word_width =  thai_font.getsize(word)[0]\n",
        "\n",
        "            width_counter += word_width\n",
        "\n",
        "            if width_counter < available_space:\n",
        "                if emo:\n",
        "                    try:\n",
        "                        pilmoji.text((int(x + 2), int(y + 3)), word, font=emoji_font, fill=\"black\")\n",
        "                        x += word_width\n",
        "                    except:\n",
        "                        pass\n",
        "\n",
        "                else:\n",
        "                    try:\n",
        "                        pilmoji.text((int(x), int(y)), word, font=thai_font, fill=\"black\")\n",
        "                        x += word_width\n",
        "                    except:\n",
        "                        pass\n",
        "\n",
        "            else:\n",
        "                # Reset x postion\n",
        "                x = left_margin\n",
        "                # Add space for y position\n",
        "                y += added_y\n",
        "                # Reset width counter\n",
        "                width_counter = 0\n",
        "                # Add word width\n",
        "                width_counter += word_width\n",
        "\n",
        "                if emo:\n",
        "                    try:\n",
        "                        pilmoji.text((int(x + 2), int(y + 3)), word, font=emoji_font, fill=\"black\")\n",
        "                        x += word_width\n",
        "                    except:\n",
        "                        pass\n",
        "\n",
        "                else:\n",
        "                    try:\n",
        "                        pilmoji.text((int(x), int(y)), word, font=thai_font, fill=\"black\")\n",
        "                        x += word_width\n",
        "                    except:\n",
        "                        pass\n",
        "\n",
        "  return image\n"
      ],
      "metadata": {
        "id": "1c2Qvi-FUvRi"
      },
      "execution_count": 20,
      "outputs": []
    },
    {
      "cell_type": "code",
      "source": [
        "text = \"วันนี้ไปกินข้าวที่ไหนกันดีละ? หิวมากๆแล้วนะ อ้อ วันนี้ฉันว่าฉันอยากกิน KFC แหละ นายคิดว่ายังไงหละ?\"\n",
        "display(generate_dynamic_screenshot(message=text,width=1.5))\n",
        "print(\"\\n\")\n",
        "display(generate_dynamic_screenshot(message=text,width=2))\n",
        "print(\"\\n\")\n",
        "display(generate_dynamic_screenshot(message=text,width=3))"
      ],
      "metadata": {
        "colab": {
          "base_uri": "https://localhost:8080/",
          "height": 515
        },
        "id": "Yvk6TVbRVDzp",
        "outputId": "16800ac5-1a53-49cb-d672-4d2b7f8ad28e"
      },
      "execution_count": 26,
      "outputs": [
        {
          "output_type": "display_data",
          "data": {
            "text/plain": [
              "<PIL.Image.Image image mode=RGB size=150x197>"
            ],
            "image/png": "[encoded data removed]"
          },
          "metadata": {}
        },
        {
          "output_type": "stream",
          "name": "stdout",
          "text": [
            "\n",
            "\n"
          ]
        },
        {
          "output_type": "display_data",
          "data": {
            "text/plain": [
              "<PIL.Image.Image image mode=RGB size=200x132>"
            ],
            "image/png": "[encoded data removed]"
          },
          "metadata": {}
        },
        {
          "output_type": "stream",
          "name": "stdout",
          "text": [
            "\n",
            "\n"
          ]
        },
        {
          "output_type": "display_data",
          "data": {
            "text/plain": [
              "<PIL.Image.Image image mode=RGB size=300x100>"
            ],
            "image/png": "[encoded data removed]"
          },
          "metadata": {}
        }
      ]
    }
  ]
}